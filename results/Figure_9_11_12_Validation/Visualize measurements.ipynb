{
 "cells": [
  {
   "cell_type": "code",
   "execution_count": 1,
   "metadata": {
    "ExecuteTime": {
     "end_time": "2020-05-03T00:30:05.844319Z",
     "start_time": "2020-05-03T00:30:05.002833Z"
    }
   },
   "outputs": [
    {
     "data": {
      "text/html": [
       "<style>.container { width:100% !important; }</style>"
      ],
      "text/plain": [
       "<IPython.core.display.HTML object>"
      ]
     },
     "metadata": {},
     "output_type": "display_data"
    }
   ],
   "source": [
    "import numpy as np\n",
    "from numpy import genfromtxt\n",
    "from numpy import linalg as la\n",
    "\n",
    "from scipy import interpolate as interp\n",
    "import scipy.ndimage\n",
    "\n",
    "import matplotlib.pyplot as plt\n",
    "from matplotlib.colors import LogNorm\n",
    "from ipywidgets import interact, interactive, fixed, interact_manual\n",
    "import ipywidgets as widgets\n",
    "from ipywidgets import IntSlider, FloatSlider\n",
    "from mpl_toolkits.axes_grid1 import make_axes_locatable\n",
    "\n",
    "import mitsuba; mitsuba.set_variant('scalar_rgb')\n",
    "import mitsuba.core.spline as sp\n",
    "\n",
    "# from mitsuba.layer.util.plot.mu_slices import *\n",
    "# from mitsuba.layer.util.plot.phi_slices import *\n",
    "\n",
    "from scipy import interpolate\n",
    "\n",
    "%matplotlib inline\n",
    "%config InlineBackend.figure_format='svg'\n",
    "\n",
    "from IPython.core.display import display, HTML\n",
    "display(HTML(\"<style>.container { width:100% !important; }</style>\"))"
   ]
  },
  {
   "cell_type": "markdown",
   "metadata": {},
   "source": [
    "| measure_name | measurement_id   | transmission?\n",
    "|------|------|------|\n",
    "| goldpaper0 | 4 | no |\n",
    "| layer_020_004 | 22 | no |\n",
    "| matte-film-01 | 20 | yes |\n",
    "| blue-cardboard | 28 | no |\n",
    "| layer_020_028 | 29 | no |"
   ]
  },
  {
   "cell_type": "code",
   "execution_count": 2,
   "metadata": {
    "ExecuteTime": {
     "end_time": "2020-05-03T00:30:06.225622Z",
     "start_time": "2020-05-03T00:30:06.223387Z"
    }
   },
   "outputs": [],
   "source": [
    "# Choose measurement id\n",
    "mid = 4\n",
    "orientation = 'tb' # 'tb' (top->bottom) or 'bt' (bottom->top) for non-homogeneous measurements with transmission"
   ]
  },
  {
   "cell_type": "code",
   "execution_count": 3,
   "metadata": {
    "ExecuteTime": {
     "end_time": "2020-05-03T00:30:06.683288Z",
     "start_time": "2020-05-03T00:30:06.679539Z"
    }
   },
   "outputs": [],
   "source": [
    "names = {\n",
    "    4: \"goldpaper0\",\n",
    "    20: \"matte-film-01\",\n",
    "    22: \"layer_020_004\",\n",
    "    28: \"blue-cardboard\",\n",
    "    29: \"layer_020_028\",\n",
    "}\n",
    "\n",
    "has_transmission = {\n",
    "    4: False,\n",
    "    20: True,\n",
    "    22: False,\n",
    "    28: False,\n",
    "    29: False,\n",
    "}"
   ]
  },
  {
   "cell_type": "code",
   "execution_count": 4,
   "metadata": {
    "ExecuteTime": {
     "end_time": "2020-05-03T00:30:07.228671Z",
     "start_time": "2020-05-03T00:30:07.222263Z"
    }
   },
   "outputs": [
    {
     "name": "stdout",
     "output_type": "stream",
     "text": [
      "in_mu - in_theta\n",
      "--------------\n",
      "0.000   - 90.00˚\n",
      "0.087   - 85.00˚\n",
      "0.165   - 80.53˚\n",
      "0.241   - 76.05˚\n",
      "0.316   - 71.58˚\n",
      "0.389   - 67.11˚\n",
      "0.460   - 62.63˚\n",
      "0.528   - 58.16˚\n",
      "0.592   - 53.68˚\n",
      "0.653   - 49.21˚\n",
      "0.710   - 44.74˚\n",
      "0.763   - 40.26˚\n",
      "0.811   - 35.79˚\n",
      "0.854   - 31.32˚\n",
      "0.892   - 26.84˚\n",
      "0.925   - 22.37˚\n",
      "0.952   - 17.89˚\n",
      "0.973   - 13.42˚\n",
      "0.988   -  8.95˚\n",
      "0.997   -  4.47˚\n",
      "1.000   -  0.00˚\n"
     ]
    }
   ],
   "source": [
    "measure_name = names[mid]\n",
    "\n",
    "# Regular spacing in thetas, up to 85deg\n",
    "in_theta = np.linspace(85, 0, 20)\n",
    "in_mu = np.cos(np.deg2rad(in_theta))\n",
    "in_mu = np.insert(in_mu, 0, 0.0)\n",
    "\n",
    "m_max = len(in_mu)-1\n",
    "\n",
    "print('in_mu - in_theta')\n",
    "print('--------------')\n",
    "for i in range(len(in_mu)):\n",
    "    print('%.3f   - %5.2f˚' % (in_mu[i], np.rad2deg(np.arccos(in_mu[i]))))\n",
    "\n",
    "def incident_to_slice(m):\n",
    "    return max(0, m-1)"
   ]
  },
  {
   "cell_type": "code",
   "execution_count": 5,
   "metadata": {
    "ExecuteTime": {
     "end_time": "2020-05-03T00:30:10.194430Z",
     "start_time": "2020-05-03T00:30:10.174856Z"
    }
   },
   "outputs": [],
   "source": [
    "def sph(theta, phi):\n",
    "    sinTheta = np.sin(theta); cosTheta = np.cos(theta);\n",
    "    sinPhi = np.sin(phi); cosPhi = np.cos(phi);\n",
    "    return np.array([\n",
    "        sinTheta * cosPhi,\n",
    "        sinTheta * sinPhi,\n",
    "        cosTheta\n",
    "    ])\n",
    "\n",
    "def sphInv(w):\n",
    "    theta = np.arccos(w[2])\n",
    "    phi = np.arctan2(w[1], w[0])\n",
    "    return theta, phi\n",
    "\n",
    "def sph_scalar_theta(theta, phi):\n",
    "    sinTheta = np.sin(theta); cosTheta = np.cos(theta);\n",
    "    sinPhi = np.sin(phi); cosPhi = np.cos(phi);\n",
    "    \n",
    "    cosTheta = np.ones(sinPhi.shape) * cosTheta\n",
    "    return np.array([\n",
    "        sinTheta * cosPhi,\n",
    "        sinTheta * sinPhi,\n",
    "        cosTheta\n",
    "    ])\n",
    "\n",
    "def normalize(v):\n",
    "    norm = la.norm(v, axis=(0))\n",
    "    return v / norm\n",
    "\n",
    "def halfvector_warp(theta_i, phi_i, theta_h, phi_h, transmission):\n",
    "    f = np.pi / 180.0\n",
    "    theta_i = theta_i*f; phi_i = phi_i*f\n",
    "    theta_h = theta_h*f; phi_h = phi_h*f\n",
    "    wi = np.array([\n",
    "        np.sin(theta_i) * np.cos(phi_i),\n",
    "        np.sin(theta_i) * np.sin(phi_i),\n",
    "        np.cos(theta_i)\n",
    "    ])[:, np.newaxis, np.newaxis]\n",
    "    wh = np.array([\n",
    "        np.sin(theta_h) * np.cos(phi_h),\n",
    "        np.sin(theta_h) * np.sin(phi_h),\n",
    "        np.cos(theta_h)\n",
    "    ])\n",
    "    dp = np.sum(wi*wh, axis=0)\n",
    "    if transmission:\n",
    "        eta = 1.5\n",
    "        e = (1/eta)\n",
    "        sqrt = np.sqrt(1 - e**2 *(1 - dp**2))\n",
    "        sqrt[sqrt < 0] = 0\n",
    "\n",
    "        wo = -e*(wi - dp*wh) - wh * sqrt\n",
    "    else:\n",
    "        dp = np.sum(wi*wh, axis=0)\n",
    "        wo = 2 * dp * wh - wi\n",
    "    f = 180.0 / np.pi\n",
    "    theta_o = np.arccos(wo[2, ...]) * f\n",
    "    phi_o = np.arctan2(wo[1, ...], wo[0, ...]) * f \n",
    "    phi_o = np.where(phi_o < 0, phi_o + 360, phi_o)\n",
    "    return theta_o, phi_o\n",
    "\n",
    "def jacobian(theta_i, phi_i, theta_h, phi_h, transmission):\n",
    "    if transmission:\n",
    "        return 1\n",
    "    \n",
    "    f = np.pi / 180.0\n",
    "    theta_i = theta_i*f; phi_i = phi_i*f\n",
    "    theta_h = theta_h*f; phi_h = phi_h*f\n",
    "    wi = np.array([\n",
    "        np.sin(theta_i) * np.cos(phi_i),\n",
    "        np.sin(theta_i) * np.sin(phi_i),\n",
    "        np.cos(theta_i)\n",
    "    ])[:, np.newaxis, np.newaxis]\n",
    "    wh = np.array([\n",
    "        np.sin(theta_h) * np.cos(phi_h),\n",
    "        np.sin(theta_h) * np.sin(phi_h),\n",
    "        np.cos(theta_h)\n",
    "    ])\n",
    "    dp = np.sum(wi*wh, axis=0)\n",
    "    return 4*np.abs(dp)"
   ]
  },
  {
   "cell_type": "code",
   "execution_count": 6,
   "metadata": {
    "ExecuteTime": {
     "end_time": "2020-05-03T00:30:11.181328Z",
     "start_time": "2020-05-03T00:30:11.174577Z"
    }
   },
   "outputs": [],
   "source": [
    "def plot_helper(data, extent, title, xlabel, ylabel, log=False):\n",
    "    plt.figure(figsize=(15, 15))\n",
    "    ax = plt.gca()\n",
    "    \n",
    "    norm = None\n",
    "    if log:\n",
    "        norm = LogNorm()\n",
    "    \n",
    "    im = ax.imshow(data, extent=extent, cmap='jet', norm=norm)\n",
    "    \n",
    "    plt.title(title, size=14)\n",
    "    plt.xlabel(xlabel, size=14, ha='center', va='top')\n",
    "    l=plt.ylabel(ylabel, size=14, ha='right', va='center')\n",
    "    l.set_rotation(0)\n",
    "    \n",
    "    divider = make_axes_locatable(ax)\n",
    "    cax = divider.append_axes(\"right\", size=\"2.5%\", pad=0.1)\n",
    "\n",
    "    plt.colorbar(im, cax=cax)\n",
    "    \n",
    "    plt.tight_layout()\n",
    "    plt.show();"
   ]
  },
  {
   "cell_type": "code",
   "execution_count": 7,
   "metadata": {
    "ExecuteTime": {
     "end_time": "2020-05-03T00:30:15.117579Z",
     "start_time": "2020-05-03T00:30:11.674959Z"
    }
   },
   "outputs": [
    {
     "data": {
      "application/vnd.jupyter.widget-view+json": {
       "model_id": "0ec4bb6a09ac44c0961ae53289bce6dc",
       "version_major": 2,
       "version_minor": 0
      },
      "text/plain": [
       "interactive(children=(IntSlider(value=0, continuous_update=False, description='m', max=20), Checkbox(value=Fal…"
      ]
     },
     "metadata": {},
     "output_type": "display_data"
    }
   ],
   "source": [
    "def plot_bsdf(m=0, log=False, fill_values=True, transmission=False):\n",
    "    alt_set = ''\n",
    "    ori = ('_%s%s' % (orientation, alt_set)) if has_transmission[mid] else ('%s' % alt_set)\n",
    "    s = incident_to_slice(m)\n",
    "    name = \"measurements/%s/%d%s_%02d.npz\" % (measure_name, mid, ori, s)\n",
    "    print(name)\n",
    "    data = np.load(name)[\"t\" if transmission else \"r\"]\n",
    "    interpolant = interp.LinearNDInterpolator(data[:, 0:2], data[:, 2])\n",
    "    if fill_values:\n",
    "        interpolant_fallback = interp.NearestNDInterpolator(data[:, 0:2], data[:, 2])\n",
    "        \n",
    "    phi_o_ = np.linspace(0, 360, 2000)\n",
    "    if transmission:\n",
    "        theta_o_ = np.linspace(90, 180, 500)\n",
    "    else:\n",
    "        theta_o_ = np.linspace(0, 90, 500)\n",
    "    phi_o, theta_o = np.meshgrid(phi_o_, theta_o_)\n",
    "    \n",
    "    res = interpolant(theta_o, phi_o)\n",
    "    if fill_values:\n",
    "        res_fallback = interpolant_fallback(theta_o, phi_o)\n",
    "        mask = np.isnan(res)\n",
    "        res[mask] = res_fallback[mask]\n",
    "        \n",
    "#     res *= np.cos(np.radians(theta_o))\n",
    "        \n",
    "    if transmission:\n",
    "        extent = [0, 360, 180, 90]\n",
    "    else:\n",
    "        extent = [0, 360, 90, 0]\n",
    "    \n",
    "    plot_helper(res,\n",
    "                extent,\n",
    "                r\"$\\mu_i = %.2f$,     $\\phi_i = 0˚$,     mid = %d\" % (in_mu[m], mid),\n",
    "                r'$\\phi_o$',\n",
    "                r'$\\theta_o$',\n",
    "                log)\n",
    "\n",
    "interact(plot_bsdf,\n",
    "         m=IntSlider(min=0, max=m_max, value=0, step=1, continuous_update=False),\n",
    "         log_scale=False,\n",
    "         fill_values=True);"
   ]
  },
  {
   "cell_type": "code",
   "execution_count": 8,
   "metadata": {
    "ExecuteTime": {
     "end_time": "2020-05-03T00:30:23.556929Z",
     "start_time": "2020-05-03T00:30:15.122046Z"
    }
   },
   "outputs": [
    {
     "data": {
      "application/vnd.jupyter.widget-view+json": {
       "model_id": "ba742731c21140b08cdaa092ad40a616",
       "version_major": 2,
       "version_minor": 0
      },
      "text/plain": [
       "interactive(children=(IntSlider(value=20, continuous_update=False, description='m', max=20), Checkbox(value=Fa…"
      ]
     },
     "metadata": {},
     "output_type": "display_data"
    }
   ],
   "source": [
    "def plot_data_halfvector(m=10, transmission=False, fill_empty_values=True, fill_normal_peak=7):\n",
    "    ori = ('_%s' % orientation) if has_transmission[mid] else ''\n",
    "    s = incident_to_slice(m)\n",
    "    name = \"measurements/%s/%d%s_%02d.npz\" % (measure_name, mid, ori, s)\n",
    "    \n",
    "    data = np.load(name)[\"t\" if transmission else \"r\"]\n",
    "    interpolant = interp.LinearNDInterpolator(data[:, 0:2], data[:, 2])\n",
    "    if fill_empty_values:\n",
    "        interpolant_nn = interp.NearestNDInterpolator(data[:, 0:2], data[:, 2])\n",
    "    \n",
    "    phi_i = 0.0\n",
    "    mu_i = in_mu[m]\n",
    "    theta_i = np.rad2deg(np.arccos(mu_i))\n",
    "    \n",
    "    wi = sph(np.deg2rad(theta_i), np.deg2rad(phi_i))\n",
    "\n",
    "    if transmission:\n",
    "        phi_h_ = np.linspace(-180, 180, 1000)  # Avoid peak at \"edge\" of data\n",
    "        theta_h_ = np.linspace(0, 180, 500)\n",
    "    else:\n",
    "        phi_h_ = np.linspace(0, 360, 1000)\n",
    "        theta_h_ = np.linspace(0, 90, 250)\n",
    "    phi_h, theta_h = np.meshgrid(phi_h_, theta_h_)\n",
    "    \n",
    "    theta_o, phi_o = halfvector_warp(theta_i, phi_i, theta_h, phi_h, transmission)\n",
    "    res = interpolant(theta_o, phi_o)\n",
    "    \n",
    "    jac = jacobian(theta_i, phi_i, theta_h, phi_h, transmission)\n",
    "    \n",
    "    if fill_empty_values:\n",
    "        res_nn = interpolant_nn(theta_o, phi_o)\n",
    "        mask_nn = np.isnan(res)\n",
    "        res[mask_nn] = res_nn[mask_nn]\n",
    "    \n",
    "    # This is an important corner case:\n",
    "    # For reflection, there is not way to measure the specular peak as it lies direclty on the\n",
    "    # retroreflection. Thus, we take a slice of an incident mu direction and map it through the\n",
    "    # halfvector-parameterization to \"fill that hole\"\n",
    "    if fill_normal_peak > 0 and not transmission and in_mu[m] == 1.0:\n",
    "        m_off = m-1\n",
    "        s_peak = incident_to_slice(m_off)\n",
    "        \n",
    "        name = \"measurements/%s/%d%s_%02d.npz\" % (measure_name, mid, ori, s_peak)\n",
    "        data_peak = np.load(name)[\"r\"]\n",
    "        interpolant_peak = interp.LinearNDInterpolator(data_peak[:, 0:2], data_peak[:, 2])\n",
    "        if fill_empty_values:\n",
    "            interpolant_peak_nn = interp.NearestNDInterpolator(data_peak[:, 0:2], data_peak[:, 2])\n",
    "\n",
    "        mu_i_peak = in_mu[m_off]\n",
    "        theta_i_peak = np.rad2deg(np.arccos(mu_i_peak))\n",
    "        \n",
    "        theta_o_peak, phi_o_peak = halfvector_warp(theta_i_peak, phi_i, theta_h, phi_h, transmission)\n",
    "        res_peak = interpolant_peak(theta_o_peak, phi_o_peak)\n",
    "        \n",
    "        if fill_empty_values:\n",
    "            res_peak_nn = interpolant_peak_nn(theta_o_peak, phi_o_peak)\n",
    "            mask_peak_nn = np.isnan(res_peak)\n",
    "            res_peak[mask_peak_nn] = res_peak_nn[mask_peak_nn]\n",
    "\n",
    "        mask_peak = (theta_o < fill_normal_peak)\n",
    "        res[mask_peak] = res_peak[mask_peak]\n",
    "    \n",
    "\n",
    "    res *= jac\n",
    "    \n",
    "    if transmission:\n",
    "        extent = [-180, 180, 180, 0]\n",
    "    else:\n",
    "        extent = [0, 360, 90, 0]\n",
    "    \n",
    "    plot_helper(res,\n",
    "                extent,\n",
    "                r\"$\\phi_i = %i˚$,     $\\mu_i = %.2f$\" % (np.rad2deg(np.arccos(in_mu[m])), mu_i),\n",
    "                r'$\\phi_h$',\n",
    "                r'$\\theta_h$')\n",
    "    \n",
    "interact(plot_data_halfvector,\n",
    "         m=IntSlider(min=0, max=m_max, value=20, step=1, continuous_update=False),\n",
    "         transmission=False,\n",
    "         fill_empty_values=True,\n",
    "         fill_normal_peak=IntSlider(min=0, max=20, value=8, step=1, continuous_update=False));"
   ]
  },
  {
   "cell_type": "code",
   "execution_count": 9,
   "metadata": {
    "ExecuteTime": {
     "end_time": "2020-05-03T00:31:50.849356Z",
     "start_time": "2020-05-03T00:30:23.565765Z"
    }
   },
   "outputs": [
    {
     "name": "stdout",
     "output_type": "stream",
     "text": [
      "Progress: 100.00%\r"
     ]
    }
   ],
   "source": [
    "n_theta_h = 500\n",
    "n_phi_h = 2000\n",
    "\n",
    "brdf = np.zeros((len(in_mu), n_theta_h, n_phi_h))\n",
    "btdf = np.zeros((len(in_mu), 2*n_theta_h, n_phi_h))\n",
    "\n",
    "phi_i = 0.0\n",
    "\n",
    "if has_transmission[mid]:\n",
    "    total = 2*len(in_mu)\n",
    "else:\n",
    "    total = len(in_mu)\n",
    "current = 0\n",
    "\n",
    "normal_incidence_fill_degree = 8\n",
    "    \n",
    "for i, mu_i in enumerate(in_mu):\n",
    "    ori = ('_%s' % orientation) if has_transmission[mid] else ''\n",
    "    s = incident_to_slice(i)\n",
    "    name = \"measurements/%s/%d%s_%02d.npz\" % (measure_name, mid, ori, s)\n",
    "    \n",
    "    data = np.load(name)[\"r\"]\n",
    "    interpolant = interp.LinearNDInterpolator(data[:, 0:2], data[:, 2])\n",
    "    interpolant_nn = interp.NearestNDInterpolator(data[:, 0:2], data[:, 2])\n",
    "    \n",
    "    phi_i = 0.0\n",
    "    mu_i = in_mu[i]\n",
    "    theta_i = np.rad2deg(np.arccos(mu_i))\n",
    "    \n",
    "    wi = sph(np.deg2rad(theta_i), np.deg2rad(phi_i))\n",
    "\n",
    "    phi_h_ = np.linspace(0, 360, n_phi_h)\n",
    "    theta_h_ = np.linspace(0, 90, n_theta_h)\n",
    "    phi_h, theta_h = np.meshgrid(phi_h_, theta_h_)\n",
    "    \n",
    "    theta_o, phi_o = halfvector_warp(theta_i, phi_i, theta_h, phi_h, False)\n",
    "    res = interpolant(theta_o, phi_o)\n",
    "    \n",
    "    jac = jacobian(theta_i, phi_i, theta_h, phi_h, False)\n",
    "\n",
    "    res_nn = interpolant_nn(theta_o, phi_o)\n",
    "    mask_nn = np.isnan(res)\n",
    "    res[mask_nn] = res_nn[mask_nn]\n",
    "    \n",
    "    if mu_i == 1.0 and normal_incidence_fill_degree > 0:\n",
    "        i_off = i-1\n",
    "        s_peak = incident_to_slice(i_off)\n",
    "\n",
    "        name_peak = \"measurements/%s/%d%s_%02d.npz\" % (measure_name, mid, ori, s_peak)\n",
    "        data_peak = np.load(name_peak)[\"r\"]\n",
    "        interpolant_peak = interp.LinearNDInterpolator(data_peak[:, 0:2], data_peak[:, 2])\n",
    "        interpolant_peak_nn = interp.NearestNDInterpolator(data_peak[:, 0:2], data_peak[:, 2])\n",
    "        \n",
    "        mu_i_peak = in_mu[i_off]\n",
    "        theta_i_peak = np.rad2deg(np.arccos(mu_i_peak))\n",
    "        \n",
    "        theta_o_peak, phi_o_peak = halfvector_warp(theta_i_peak, phi_i, theta_h, phi_h, False)\n",
    "        res_peak = interpolant_peak(theta_o_peak, phi_o_peak)\n",
    "        \n",
    "        res_peak_nn = interpolant_peak_nn(theta_o_peak, phi_o_peak)\n",
    "        mask_peak_nn = np.isnan(res_peak)\n",
    "        res_peak[mask_peak_nn] = res_peak_nn[mask_peak_nn]\n",
    "\n",
    "        mask_peak = (theta_o < normal_incidence_fill_degree)\n",
    "        res[mask_peak] = res_peak[mask_peak]\n",
    "    \n",
    "    jac = jacobian(theta_i, phi_i, theta_h, phi_h, False)\n",
    "    res *= jac\n",
    "\n",
    "    brdf[i, :] = res\n",
    "    \n",
    "    current += 1\n",
    "    \n",
    "    print (\"Progress: %.2f%%\" % (100*current/total), end=\"\\r\")\n",
    "\n",
    "if has_transmission[mid]:\n",
    "    for i, mu_i in enumerate(in_mu):\n",
    "        ori = ('_%s' % orientation) if has_transmission[mid] else ''\n",
    "        s = incident_to_slice(i)\n",
    "        name = \"measurements/%s/%d%s_%02d.npz\" % (measure_name, mid, ori, s)\n",
    "\n",
    "        data = np.load(name)[\"t\"]\n",
    "        interpolant = interp.LinearNDInterpolator(data[:, 0:2], data[:, 2])\n",
    "        interpolant_nn = interp.NearestNDInterpolator(data[:, 0:2], data[:, 2])\n",
    "\n",
    "        phi_i = 0.0\n",
    "        mu_i = in_mu[i]\n",
    "        theta_i = np.rad2deg(np.arccos(mu_i))\n",
    "        wi = sph(np.deg2rad(theta_i), np.deg2rad(phi_i))\n",
    "\n",
    "        phi_h_ = np.linspace(-180, 180, n_phi_h)\n",
    "        theta_h_ = np.linspace(0, 180, 2*n_theta_h)\n",
    "        phi_h, theta_h = np.meshgrid(phi_h_, theta_h_)\n",
    "\n",
    "        theta_o, phi_o = halfvector_warp(theta_i, phi_i, theta_h, phi_h, True)\n",
    "        mu_o = np.cos(np.deg2rad(theta_o))\n",
    "        res = interpolant(theta_o, phi_o)\n",
    "\n",
    "        jac = jacobian(theta_i, phi_i, theta_h, phi_h, True)\n",
    "\n",
    "        res_nn = interpolant_nn(theta_o, phi_o)\n",
    "        mask_nn = np.isnan(res)\n",
    "        res[mask_nn] = res_nn[mask_nn]\n",
    "\n",
    "        jac = jacobian(theta_i, phi_i, theta_h, phi_h, True)\n",
    "        res *= jac\n",
    "\n",
    "        res[mu_o*mu_i >= 0.0] = 0\n",
    "\n",
    "        btdf[i, :] = res\n",
    "\n",
    "        current += 1\n",
    "\n",
    "        print (\"Progress: %.2f%%\" % (100*current/total), end=\"\\r\")"
   ]
  },
  {
   "cell_type": "code",
   "execution_count": 10,
   "metadata": {
    "ExecuteTime": {
     "end_time": "2020-05-03T00:31:58.781714Z",
     "start_time": "2020-05-03T00:31:58.387791Z"
    }
   },
   "outputs": [
    {
     "data": {
      "application/vnd.jupyter.widget-view+json": {
       "model_id": "2e713e22c2284f5bab4d00313204d5f5",
       "version_major": 2,
       "version_minor": 0
      },
      "text/plain": [
       "interactive(children=(IntSlider(value=10, description='m', max=20), Checkbox(value=False, description='transmi…"
      ]
     },
     "metadata": {},
     "output_type": "display_data"
    }
   ],
   "source": [
    "@interact(m=(0, m_max, 1))\n",
    "def plot_data_precomputed(m=10, transmission=False):\n",
    "    if transmission:\n",
    "        res = btdf[m, :]\n",
    "    else:\n",
    "        res = brdf[m, :]\n",
    "\n",
    "    plot_helper(res, [0, 360, 90, 0],\n",
    "                r\"$\\mu_i = %.2f$,     $\\phi_i = 0˚$\" % (in_mu[m]),\n",
    "                r'$\\phi_h$',\n",
    "                r'$\\theta_h$')"
   ]
  },
  {
   "cell_type": "code",
   "execution_count": 11,
   "metadata": {
    "ExecuteTime": {
     "end_time": "2020-05-03T00:31:59.585167Z",
     "start_time": "2020-05-03T00:31:59.576126Z"
    }
   },
   "outputs": [],
   "source": [
    "def interpolate_table(bsdf, nodes, mu_i):\n",
    "    y = np.zeros((bsdf.shape[1], bsdf.shape[2]))\n",
    "    \n",
    "    if mu_i < in_mu[1]:\n",
    "        # We are in the special region where we don't even have data, fallback to simpler linear interpolation here!\n",
    "        alpha = (mu_i - in_mu[1]) / (in_mu[2] - in_mu[1])\n",
    "        y = (1-alpha) * bsdf[1, :, :] + alpha * bsdf[2, :, :]\n",
    "    elif mu_i < in_mu[len(in_mu)//2]:\n",
    "        for i in range(len(in_mu)-1):\n",
    "            if in_mu[i] < mu_i and in_mu[i+1] > mu_i:\n",
    "                idx0 = i\n",
    "                idx1 = i + 1\n",
    "                break\n",
    "                \n",
    "        alpha = (mu_i - in_mu[idx0]) / (in_mu[idx1] - in_mu[idx0])\n",
    "        y = (1-alpha) * bsdf[idx0, :, :] + alpha * bsdf[idx1, :, :]\n",
    "    else:\n",
    "        _, offset, weights = sp.eval_spline_weights(nodes, mu_i)\n",
    "        for i in range(4):\n",
    "            w = weights[i]\n",
    "            if w == 0:\n",
    "                continue\n",
    "            y += bsdf[offset + i, :, :] * w\n",
    "\n",
    "    return y"
   ]
  },
  {
   "cell_type": "code",
   "execution_count": 12,
   "metadata": {
    "ExecuteTime": {
     "end_time": "2020-05-03T00:32:00.836006Z",
     "start_time": "2020-05-03T00:32:00.426295Z"
    }
   },
   "outputs": [
    {
     "data": {
      "application/vnd.jupyter.widget-view+json": {
       "model_id": "5bafbe6bf2fb4b728346d2b408699cde",
       "version_major": 2,
       "version_minor": 0
      },
      "text/plain": [
       "interactive(children=(FloatSlider(value=0.5, description='mu_i', max=1.0, step=0.0001), Checkbox(value=False, …"
      ]
     },
     "metadata": {},
     "output_type": "display_data"
    }
   ],
   "source": [
    "@interact(mu_i=(0.0, 1.0, 0.0001),\n",
    "          transmission=False)\n",
    "def plot_data_interpolated(mu_i=0.5, transmission=False):\n",
    "    if transmission:\n",
    "        res = interpolate_table(btdf, in_mu, mu_i)\n",
    "        extent = [-180, 180, 180, 0]\n",
    "    else:\n",
    "        res = interpolate_table(brdf, in_mu, mu_i)\n",
    "        extent = [0, 360, 90, 0]\n",
    "\n",
    "    plot_helper(res, extent,\n",
    "                r\"$\\mu_i = %.2f$,     $\\phi_i = 0˚$\" % (mu_i),\n",
    "                r'$\\phi_h$',\n",
    "                r'$\\theta_h$',\n",
    "                False)"
   ]
  },
  {
   "cell_type": "code",
   "execution_count": 24,
   "metadata": {
    "ExecuteTime": {
     "end_time": "2020-05-02T23:55:08.998681Z",
     "start_time": "2020-05-02T23:55:08.303870Z"
    }
   },
   "outputs": [
    {
     "data": {
      "application/vnd.jupyter.widget-view+json": {
       "model_id": "2c7789eb82fb432e9da83922c20817db",
       "version_major": 2,
       "version_minor": 0
      },
      "text/plain": [
       "interactive(children=(FloatSlider(value=0.05, description='mu_i', max=1.0, step=0.0001), Checkbox(value=False,…"
      ]
     },
     "metadata": {},
     "output_type": "display_data"
    }
   ],
   "source": [
    "@interact(mu_i=(0.0, 1.0, 0.0001), transmission=False)\n",
    "def plot_bsdf_interpolated(mu_i=0.05, transmission=False):\n",
    "    if transmission:\n",
    "        halfway_parameterization = interpolate_table(btdf, in_mu, mu_i)\n",
    "    else:\n",
    "        halfway_parameterization = interpolate_table(brdf, in_mu, mu_i)\n",
    "    \n",
    "    theta_i = np.rad2deg(np.arccos(mu_i))\n",
    "    wi = sph(np.deg2rad(theta_i), np.deg2rad(phi_i))\n",
    "    \n",
    "    phi_o_ = np.linspace(0, 360, 2000)\n",
    "    if transmission:\n",
    "        theta_o_ = np.linspace(90, 180, 500)\n",
    "    else:\n",
    "        theta_o_ = np.linspace(0, 90, 500)\n",
    "    theta_o, phi_o = np.meshgrid(theta_o_, phi_o_)\n",
    "    \n",
    "    wo = sph(np.deg2rad(theta_o), np.deg2rad(phi_o))\n",
    "    \n",
    "    if transmission:\n",
    "        h = -normalize(wi[..., np.newaxis, np.newaxis] + wo*1.5)\n",
    "    else:\n",
    "        h = normalize(wi[..., np.newaxis, np.newaxis] + wo)\n",
    "    \n",
    "    phi_h_ = np.linspace(0, 360, n_phi_h)\n",
    "    theta_h_ = np.linspace(0, 90, n_theta_h)\n",
    "    phi_h, theta_h = np.meshgrid(phi_h_, theta_h_)\n",
    "    jac = jacobian(theta_i, phi_i, theta_h, phi_h, transmission)\n",
    "    halfway_parameterization /= jac\n",
    "    \n",
    "    theta_h_rad, phi_h_rad = sphInv(h)\n",
    "    theta_h = np.rad2deg(theta_h_rad); phi_h = np.rad2deg(phi_h_rad)\n",
    "    if transmission:\n",
    "        phi_h = (phi_h + 180) / 360 * n_phi_h\n",
    "    else:\n",
    "        phi_h = np.where(phi_h < 0, phi_h + 360, phi_h)\n",
    "        phi_h = phi_h / 360 * n_phi_h\n",
    "    theta_h = theta_h / 90 * n_theta_h\n",
    "        \n",
    "    phi_h_flat = phi_h.reshape(phi_h.shape[0]*theta_h.shape[1], -1)\n",
    "    theta_h_flat = theta_h.reshape(theta_h.shape[0]*theta_h.shape[1], -1)\n",
    "\n",
    "    coords = [theta_h_flat, phi_h_flat]\n",
    "    res = scipy.ndimage.interpolation.map_coordinates(halfway_parameterization, coords, order=1, mode='nearest')\n",
    "\n",
    "    res = res.reshape(phi_h.shape[0], phi_h.shape[1]).T\n",
    "    \n",
    "    if transmission:\n",
    "        extent = [-180, 180, 180, 90]\n",
    "    else:\n",
    "        extent = [-180, 180, 90, 0]\n",
    "\n",
    "    plot_helper(res, extent,\n",
    "                r\"$\\theta_i = %.2f˚$,     $\\mu_i = %.2f$\" % (theta_i, mu_i),\n",
    "                r'$\\phi_o$',\n",
    "                r'$\\theta_o$',\n",
    "                False)"
   ]
  },
  {
   "cell_type": "code",
   "execution_count": 25,
   "metadata": {
    "ExecuteTime": {
     "end_time": "2020-05-02T23:55:32.958287Z",
     "start_time": "2020-05-02T23:55:29.000489Z"
    }
   },
   "outputs": [
    {
     "data": {
      "application/vnd.jupyter.widget-view+json": {
       "model_id": "382d916c9ac343a68f9dad17cfb85789",
       "version_major": 2,
       "version_minor": 0
      },
      "text/plain": [
       "interactive(children=(IntSlider(value=9, continuous_update=False, description='m', max=20), Checkbox(value=Fal…"
      ]
     },
     "metadata": {},
     "output_type": "display_data"
    }
   ],
   "source": [
    "interact(plot_bsdf,\n",
    "         m=IntSlider(min=0, max=m_max, value=9, step=1, continuous_update=False),\n",
    "         transmission=False,\n",
    "         fill_values=True);"
   ]
  },
  {
   "cell_type": "code",
   "execution_count": 28,
   "metadata": {
    "ExecuteTime": {
     "end_time": "2020-05-02T23:56:16.657950Z",
     "start_time": "2020-05-02T23:56:16.649888Z"
    }
   },
   "outputs": [],
   "source": [
    "def interpolate_slice(data, nodes, mu_i):\n",
    "    y = 0\n",
    "\n",
    "    if mu_i < in_mu[1]:\n",
    "        # We are in the special region where we don't even have data, fallback to simpler linear interpolation here!\n",
    "        alpha = (mu_i - in_mu[1]) / (in_mu[2] - in_mu[1])\n",
    "        y = (1-alpha) * data[1] + alpha * data[2]\n",
    "    elif mu_i < in_mu[len(in_mu)//2]:\n",
    "        for i in range(len(in_mu)-1):\n",
    "            if in_mu[i] < mu_i and in_mu[i+1] > mu_i:\n",
    "                idx0 = i\n",
    "                idx1 = i + 1\n",
    "                break\n",
    "\n",
    "        alpha = (mu_i - in_mu[idx0]) / (in_mu[idx1] - in_mu[idx0])\n",
    "        y = (1-alpha) * data[idx0] + alpha * data[idx1]\n",
    "    else:\n",
    "        _, offset, weights = sp.eval_spline_weights(nodes, mu_i)\n",
    "        for i in range(4):\n",
    "            w = weights[i]\n",
    "            if w == 0:\n",
    "                continue\n",
    "            y += data[offset + i] * w\n",
    "    return y"
   ]
  },
  {
   "cell_type": "code",
   "execution_count": 29,
   "metadata": {
    "ExecuteTime": {
     "end_time": "2020-05-02T23:56:17.685366Z",
     "start_time": "2020-05-02T23:56:17.207564Z"
    }
   },
   "outputs": [
    {
     "data": {
      "application/vnd.jupyter.widget-view+json": {
       "model_id": "1e7005acb18b4b8984b371096450a478",
       "version_major": 2,
       "version_minor": 0
      },
      "text/plain": [
       "interactive(children=(FloatSlider(value=0.0, description='phi_d', max=3.141592653589793, step=0.001), Checkbox…"
      ]
     },
     "metadata": {},
     "output_type": "display_data"
    }
   ],
   "source": [
    "@interact(phi_d=(0, np.pi, 0.001),\n",
    "          scale=True)\n",
    "def mu_mu_plot(phi_d=0, scale=True):\n",
    "    n_res = 100\n",
    "\n",
    "    if has_transmission[mid]:\n",
    "        fig, (ax1, ax2) = plt.subplots(ncols=2, figsize=(9, 5))\n",
    "    else:\n",
    "        fig, (ax1) = plt.subplots(ncols=1, figsize=(9, 5))\n",
    "    \n",
    "    ## REFLECTION\n",
    "    mu_i_ = np.linspace(0, 1, n_res)\n",
    "    mu_o_ = np.linspace(0, 1, n_res)    # Note difference in mu direction\n",
    "    mu_i, mu_o = np.meshgrid(mu_i_, mu_o_)\n",
    "    \n",
    "    theta_i = np.arccos(mu_i)\n",
    "    theta_o = np.arccos(mu_o)\n",
    "    \n",
    "    phi_i = 0\n",
    "    phi_o = phi_i + np.pi + phi_d\n",
    "    phi_o = np.where(phi_o < 0, phi_o + 2*np.pi, phi_o)\n",
    "        \n",
    "    # Find halfway angle to lookup brdf values\n",
    "    wi = sph(theta_i, phi_i)\n",
    "    wo = sph(theta_o, phi_o)\n",
    "    \n",
    "    h = normalize(wi + wo)\n",
    "    \n",
    "    theta_h_rad, phi_h_rad = sphInv(h)\n",
    "    theta_h = np.rad2deg(theta_h_rad); phi_h = np.rad2deg(phi_h_rad)\n",
    "    phi_h = np.where(phi_h < 0, phi_h + 360, phi_h)\n",
    "    \n",
    "    res = np.zeros((n_res, n_res))\n",
    "    for j in range(n_res):\n",
    "        for i in range(n_res):\n",
    "            phi_h_idx = int((phi_h[i, j]) / 360 * (n_phi_h-1))\n",
    "            theta_h_idx = int(theta_h[i, j] / 90 * (n_theta_h-1))\n",
    "            \n",
    "            brdf_slice = brdf[:, theta_h_idx, phi_h_idx]\n",
    "            \n",
    "            fr = interpolate_slice(brdf_slice, in_mu, np.abs(mu_i[i, j]))\n",
    "        \n",
    "            # Cancel out jacobian of halfvector transform again\n",
    "            wi_l = wi[:, i, j]\n",
    "            wh_l = h[:, i, j]\n",
    "            jac = 4*np.abs(np.dot(wi_l, wh_l))\n",
    "            fr /= jac\n",
    "            \n",
    "#             with np.errstate(divide='ignore'):\n",
    "#                 inv_cos = 1.0 / np.abs(mu_o[i,j])\n",
    "#                 if inv_cos == np.inf:\n",
    "#                     inv_cos = 0\n",
    "#                 fr *= inv_cos\n",
    "        \n",
    "            res[i, j] = fr\n",
    "    \n",
    "    if scale:\n",
    "        res *= np.abs(mu_i * mu_o)\n",
    "    \n",
    "    im1 = ax1.imshow(res,\n",
    "                     cmap='jet',\n",
    "                     origin='lower',\n",
    "                     extent=[0, 1, 0, -1],\n",
    "                     vmin=0,\n",
    "                     vmax=np.percentile(res, 99))\n",
    "    \n",
    "    ax1.set_title('$\\mathbf{R}^t$', size=14)\n",
    "    ax1.set_xlabel('$\\mu_i$', size=14, ha='center', va='top')\n",
    "    l=ax1.set_ylabel('$\\mu_o$', size=14, ha='right', va='center')\n",
    "    l.set_rotation(0)\n",
    "    \n",
    "    divider = make_axes_locatable(ax1)\n",
    "    cax = divider.append_axes(\"right\", size=\"2.5%\", pad=0.1)\n",
    "    plt.colorbar(im1, cax=cax)\n",
    "    \n",
    "    if has_transmission[mid]:\n",
    "        ## REFRACTION\n",
    "        mu_i_ = np.linspace(0, 1, n_res)\n",
    "        mu_o_ = np.linspace(-1, 0, n_res) # Note difference in mu_o direction\n",
    "        mu_i, mu_o = np.meshgrid(mu_i_, mu_o_)\n",
    "\n",
    "        theta_i = np.arccos(mu_i)\n",
    "        theta_o = np.arccos(mu_o)\n",
    "\n",
    "        phi_i = 0\n",
    "        phi_o = phi_i + np.pi + phi_d\n",
    "        phi_o = np.where(phi_o < 0, phi_o + 2*np.pi, phi_o)\n",
    "\n",
    "        # Find halfway angle to lookup brdf values\n",
    "        wi = sph(theta_i, phi_i)\n",
    "        wo = sph(theta_o, phi_o)\n",
    "\n",
    "        h = -normalize(wi + wo*1.5)\n",
    "\n",
    "        theta_h_rad, phi_h_rad = sphInv(h)\n",
    "        theta_h = np.rad2deg(theta_h_rad); phi_h = np.rad2deg(phi_h_rad)\n",
    "\n",
    "        res = np.zeros((n_res, n_res))\n",
    "        for j in range(n_res):\n",
    "            for i in range(n_res):\n",
    "                phi_h_idx = int((phi_h[i, j] + 180) / 360 * (n_phi_h-1))\n",
    "                theta_h_idx = int(theta_h[i, j] / 180 * (2*n_theta_h-1))\n",
    "\n",
    "                btdf_slice = btdf[:, theta_h_idx, phi_h_idx]\n",
    "\n",
    "                fr = interpolate_slice(btdf_slice, in_mu, np.abs(mu_i[i, j]))\n",
    "                \n",
    "#                 with np.errstate(divide='ignore'):\n",
    "#                     inv_cos = 1.0 / np.abs(mu_o[i,j])\n",
    "#                     if inv_cos == np.inf:\n",
    "#                         inv_cos = 0\n",
    "#                     fr *= inv_cos\n",
    "\n",
    "                res[i, j] = np.clip(fr, 0.0, np.inf)\n",
    "\n",
    "        if scale:\n",
    "            res *= np.abs(mu_i * mu_o)\n",
    "\n",
    "        im2 = ax2.imshow(res,\n",
    "                         cmap='jet',\n",
    "                         origin='lower',\n",
    "                         extent=[0, 1, 1, 0],\n",
    "                         vmin=0,\n",
    "                         vmax=np.percentile(res, 99))\n",
    "\n",
    "        ax2.set_title('$\\mathbf{T}^{tb}$', size=14)\n",
    "        ax2.set_xlabel('$\\mu_i$', size=14, ha='center', va='top')\n",
    "        l=ax2.set_ylabel('$\\mu_o$', size=14, ha='right', va='center')\n",
    "        l.set_rotation(0)\n",
    "\n",
    "        divider = make_axes_locatable(ax2)\n",
    "        cax = divider.append_axes(\"right\", size=\"2.5%\", pad=0.1)\n",
    "        plt.colorbar(im2, cax=cax)\n",
    "    \n",
    "    plt.tight_layout()\n",
    "    plt.show()"
   ]
  },
  {
   "cell_type": "code",
   "execution_count": 30,
   "metadata": {
    "ExecuteTime": {
     "end_time": "2020-05-02T23:56:28.611447Z",
     "start_time": "2020-05-02T23:56:28.601585Z"
    }
   },
   "outputs": [],
   "source": [
    "def eval_bsdf(mu_i, mu_o, phi_d):\n",
    "    transmission = (mu_i*mu_o > 0)\n",
    "    \n",
    "    mu_o = -mu_o # Difference in parameterization\n",
    "    inv_cos = 1.0 / np.abs(mu_o)\n",
    "    \n",
    "    theta_i = np.arccos(mu_i)\n",
    "    theta_o = np.arccos(mu_o)\n",
    "    \n",
    "    phi_i = 0\n",
    "    phi_o = phi_i + np.pi + phi_d\n",
    "    \n",
    "    # Find halfway angle to lookup brdf values\n",
    "    wi = sph_scalar_theta(theta_i, phi_i)\n",
    "    wo = sph_scalar_theta(theta_o, phi_o)\n",
    "    \n",
    "    if transmission:\n",
    "        h = -normalize(wi[..., np.newaxis] + wo*1.5)\n",
    "    else:\n",
    "        h = normalize(wi[..., np.newaxis] + wo)\n",
    "    \n",
    "    theta_h_rad, phi_h_rad = sphInv(h)\n",
    "    theta_h = np.rad2deg(theta_h_rad); phi_h = np.rad2deg(phi_h_rad)\n",
    "    if not transmission:\n",
    "        phi_h = np.where(phi_h < 0, phi_h + 360, phi_h)\n",
    "    \n",
    "    n = len(phi_d)\n",
    "    res = np.zeros(n)\n",
    "    for i in range(n):\n",
    "        if transmission:\n",
    "            phi_h_idx = int((phi_h[i] + 180) / 360 * (n_phi_h-1))\n",
    "            theta_h_idx = int(theta_h[i] / 180 * (2*n_theta_h-1))\n",
    "            bsdf_slice = btdf[:, theta_h_idx, phi_h_idx]\n",
    "        else:\n",
    "            phi_h_idx = int((phi_h[i]) / 360 * (n_phi_h-1))\n",
    "            theta_h_idx = int(theta_h[i] / 90 * (n_theta_h-1))\n",
    "            bsdf_slice = brdf[:, theta_h_idx, phi_h_idx]\n",
    "            \n",
    "        fr = interpolate_slice(bsdf_slice, in_mu, mu_i)\n",
    "        \n",
    "        res[i] = fr\n",
    "        \n",
    "    if not transmission: \n",
    "        jac = 4*np.abs(np.sum(wi[..., np.newaxis]*h, axis=0))\n",
    "        res /= jac\n",
    "        \n",
    "#     res *= inv_cos\n",
    "    \n",
    "    return res"
   ]
  },
  {
   "cell_type": "code",
   "execution_count": 31,
   "metadata": {
    "ExecuteTime": {
     "end_time": "2020-05-02T23:56:30.154085Z",
     "start_time": "2020-05-02T23:56:30.150464Z"
    }
   },
   "outputs": [],
   "source": [
    "def fourier(x, coeffs):\n",
    "        x = np.asarray(x)\n",
    "        indices = np.arange(-(len(coeffs)//2), len(coeffs)//2+1)\n",
    "        return np.sum(np.exp(1j*x[..., np.newaxis] * indices) * coeffs, axis=-1)"
   ]
  },
  {
   "cell_type": "code",
   "execution_count": 32,
   "metadata": {
    "ExecuteTime": {
     "end_time": "2020-05-02T23:56:31.247557Z",
     "start_time": "2020-05-02T23:56:31.007531Z"
    }
   },
   "outputs": [
    {
     "data": {
      "application/vnd.jupyter.widget-view+json": {
       "model_id": "f0dcf9dbad254060b795f922c7430420",
       "version_major": 2,
       "version_minor": 0
      },
      "text/plain": [
       "interactive(children=(FloatSlider(value=0.5, description='mu_i', max=1.0, step=0.001), FloatSlider(value=-0.5,…"
      ]
     },
     "metadata": {},
     "output_type": "display_data"
    }
   ],
   "source": [
    "@interact(mu_i=(0, 1, 0.001),\n",
    "          mu_o=(-1, +1, 0.001),\n",
    "          md=(1, 1001, 2),\n",
    "          scale_energy=False)\n",
    "def phi_phi_plot_data(mu_i=0.5, mu_o=-0.5, md=5,scale_energy=False):\n",
    "    n_res = 1000\n",
    "    \n",
    "    phi_d = np.linspace(-np.pi, np.pi, n_res)\n",
    "    fr = eval_bsdf(mu_i, mu_o, phi_d)\n",
    "    \n",
    "    if scale_energy:\n",
    "        fr *= np.abs(mu_i * mu_o)\n",
    "        \n",
    "    samples = np.linspace(0, 2*np.pi, md, endpoint=False)\n",
    "    values = eval_bsdf(mu_i, mu_o, samples)\n",
    "    if scale_energy:\n",
    "        values *= np.abs(mu_i * mu_o)\n",
    "    coeffs = np.real(mitsuba.layer.fftw_transform_r2c(values))\n",
    "    \n",
    "    fs = fourier(phi_d, coeffs)\n",
    "    \n",
    "    plt.figure(figsize=(5, 5))\n",
    "    ax = plt.gca()\n",
    "        \n",
    "    plt.plot(phi_d, fr, label='BSDF')\n",
    "    plt.plot(phi_d, fs, label='Fourier')\n",
    "\n",
    "    plt.title('Azimuthal slice', size=14)\n",
    "    plt.xlabel('$\\phi_d$', size=14, ha='center', va='top')\n",
    "    l=plt.ylabel('$f_r$', size=14, ha='right', va='center')\n",
    "    l.set_rotation(0)\n",
    "    \n",
    "    plt.legend()\n",
    "    plt.tight_layout()\n",
    "    plt.show()"
   ]
  },
  {
   "cell_type": "code",
   "execution_count": null,
   "metadata": {
    "collapsed": true
   },
   "outputs": [],
   "source": []
  }
 ],
 "metadata": {
  "kernelspec": {
   "display_name": "Python 3",
   "language": "python",
   "name": "python3"
  },
  "language_info": {
   "codemirror_mode": {
    "name": "ipython",
    "version": 3
   },
   "file_extension": ".py",
   "mimetype": "text/x-python",
   "name": "python",
   "nbconvert_exporter": "python",
   "pygments_lexer": "ipython3",
   "version": "3.7.3"
  }
 },
 "nbformat": 4,
 "nbformat_minor": 2
}
